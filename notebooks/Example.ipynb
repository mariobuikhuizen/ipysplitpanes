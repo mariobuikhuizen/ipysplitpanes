{
 "cells": [
  {
   "cell_type": "code",
   "execution_count": 1,
   "metadata": {},
   "outputs": [],
   "source": [
    "import ipyvuetify as v\n",
    "from traitlets import Unicode, Float, List\n",
    "\n",
    "from ipysplitpanes import SplitPanes\n",
    "sp = SplitPanes()\n",
    "\n",
    "from ipyvuedraggable import Draggable\n",
    "d = Draggable()"
   ]
  },
  {
   "cell_type": "code",
   "execution_count": 75,
   "metadata": {},
   "outputs": [
    {
     "data": {
      "application/vnd.jupyter.widget-view+json": {
       "model_id": "7dd7f8d84d284838a71ab7c5cc3b1c82",
       "version_major": 2,
       "version_minor": 0
      },
      "text/plain": [
       "NewThing(events=['close_tab'], viewers=[[{'tab': 0, 'items': [{'id': 1, 'title': 'Option', 'content': 'Option …"
      ]
     },
     "metadata": {},
     "output_type": "display_data"
    }
   ],
   "source": [
    "class NewThing(v.VuetifyTemplate):\n",
    "    template = Unicode(\"\"\"\n",
    "    <div>\n",
    "        <splitpanes class=\"default-theme\" style=\"height: 400px\" horizontal>\n",
    "            <pane v-for=\"(row, i) in viewers\">\n",
    "              <splitpanes>\n",
    "                  <pane v-for=\"(col, j) in row\">\n",
    "                      \n",
    "                      <v-tabs\n",
    "                          v-model=\"col.tab\"\n",
    "                          \n",
    "                      >\n",
    "                          <draggable v-model=\"col.items\" :group=\"{name:'viewers'}\">\n",
    "                              <v-tab v-for=\"item in col.items\" :key=\"item.id\" style=\"padding-right: 0px;\" @click=\"\">\n",
    "                                  {{ item.title }}\n",
    "                                  <v-spacer />\n",
    "                                  <v-btn tile icon color=\"pink\" @click.stop=\"\" style=\"margin-left: 10px\">\n",
    "                                      <v-icon>close</v-icon>\n",
    "                                  </v-btn>\n",
    "                              </v-tab>\n",
    "                          </draggable>\n",
    "\n",
    "                      <v-tabs-items v-model=\"col.tab\">\n",
    "                          <v-tab-item\n",
    "                            v-for=\"item in col.items\"\n",
    "                            :key=\"item.id\"\n",
    "                          >\n",
    "                            <v-card flat color=\"basil\">\n",
    "                              <v-card-text>{{ item.content }}</v-card-text>\n",
    "                            </v-card>\n",
    "                          </v-tab-item>\n",
    "                    </v-tabs-items>\n",
    "                      </v-tabs>\n",
    "                    \n",
    "                  </pane>\n",
    "              </splitpanes>\n",
    "            </pane>\n",
    "        </splitpanes>\n",
    "    </div>\n",
    "    \"\"\").tag(sync=True)\n",
    "    \n",
    "    viewers = List([\n",
    "        [\n",
    "            {\n",
    "                'tab': 0,\n",
    "                'items': [\n",
    "                    {\n",
    "                        'id': 1,\n",
    "                        'title': \"Option\",\n",
    "                        'content': \"Option content.\"\n",
    "                    },\n",
    "                    {\n",
    "                        'id': 2,\n",
    "                        'title': \"Viewers\",\n",
    "                        'content': \"Viewers content.\"\n",
    "                    }\n",
    "                ]\n",
    "            },\n",
    "            {\n",
    "                'tab': 0,\n",
    "                'items': [\n",
    "                    {\n",
    "                        'id': 1,\n",
    "                        'title': \"Component\",\n",
    "                        'content': \"Component content.\"\n",
    "                    },\n",
    "                    {\n",
    "                        'id': 2,\n",
    "                        'title': \"Layout\",\n",
    "                        'content': \"Layout content.\"\n",
    "                    } \n",
    "                ]\n",
    "            }\n",
    "        ],\n",
    "        [\n",
    "            {\n",
    "                'tab': 0,\n",
    "                'items': [\n",
    "                    {\n",
    "                        'id': 11,\n",
    "                        'title': \"Armature\",\n",
    "                        'content': \"Armature content.\"\n",
    "                    },\n",
    "                    {\n",
    "                        'id': 12,\n",
    "                        'title': \"User\",\n",
    "                        'content': \"User content.\"\n",
    "                    } \n",
    "                ]\n",
    "            }\n",
    "        ]\n",
    "    ]).tag(sync=True)\n",
    "    \n",
    "    tab1 = Float(0).tag(sync=True)\n",
    "    \n",
    "    def vue_close_tab(self, id):\n",
    "        print(\"Closing tab with id\", id)\n",
    "    \n",
    "NewThing()"
   ]
  },
  {
   "cell_type": "code",
   "execution_count": 3,
   "metadata": {},
   "outputs": [],
   "source": [
    "btn = v.Btn(children=[\"TEST\"])"
   ]
  },
  {
   "cell_type": "code",
   "execution_count": 4,
   "metadata": {},
   "outputs": [
    {
     "data": {
      "application/vnd.jupyter.widget-view+json": {
       "model_id": "91836bddb0054dc9972899f859ca1086",
       "version_major": 2,
       "version_minor": 0
      },
      "text/plain": [
       "Btn(children=['TEST'])"
      ]
     },
     "metadata": {},
     "output_type": "display_data"
    }
   ],
   "source": [
    "btn"
   ]
  },
  {
   "cell_type": "code",
   "execution_count": 5,
   "metadata": {},
   "outputs": [
    {
     "data": {
      "application/vnd.jupyter.widget-view+json": {
       "model_id": "ac79dc6f25bd483eae2fd7bc765310e6",
       "version_major": 2,
       "version_minor": 0
      },
      "text/plain": [
       "MyDraggable(items=[{'id': 1, 'avatar': 'https://s3.amazonaws.com/vuetify-docs/images/lists/1.jpg', 'title': 'B…"
      ]
     },
     "metadata": {},
     "output_type": "display_data"
    }
   ],
   "source": [
    "def getItems():\n",
    "    return [\n",
    "        {\n",
    "          'id': 1,\n",
    "          'avatar': \"https://s3.amazonaws.com/vuetify-docs/images/lists/1.jpg\",\n",
    "          'title': \"Brunch this life?\",\n",
    "          'subtitle': \"Subtitle 1\"\n",
    "        },\n",
    "        {\n",
    "          'id': 2,\n",
    "          'avatar': \"https://s3.amazonaws.com/vuetify-docs/images/lists/2.jpg\",\n",
    "          'title': \"Winter Lunch\",\n",
    "          'subtitle': \"Subtitle 2\"\n",
    "        },\n",
    "        {\n",
    "          'id': 3,\n",
    "          'avatar': \"https://s3.amazonaws.com/vuetify-docs/images/lists/3.jpg\",\n",
    "          'title': \"Oui oui\",\n",
    "          'subtitle': \"Subtitle 3\"\n",
    "        }\n",
    "      ]\n",
    "\n",
    "def getItems2():\n",
    "    return [\n",
    "    {\n",
    "      'id': 4,\n",
    "      'avatar': \"https://s3.amazonaws.com/vuetify-docs/images/lists/4.jpg\",\n",
    "      'title': \"Brunch this weekend?\",\n",
    "      'subtitle': \"Subtitle 4\"\n",
    "    },\n",
    "    {\n",
    "      'id': 5,\n",
    "      'avatar': \"https://s3.amazonaws.com/vuetify-docs/images/lists/5.jpg\",\n",
    "      'title': 'Summer BBQ',\n",
    "      'subtitle': \"Subtitle 5\"\n",
    "    }\n",
    "]\n",
    "\n",
    "class MyDraggable(v.VuetifyTemplate):\n",
    "    items =  List(getItems()).tag(sync=True)\n",
    "\n",
    "    items2 = List(getItems2()).tag(sync=True)\n",
    "\n",
    "    template = Unicode('''\n",
    "        <v-content>\n",
    "          <v-container fluid>\n",
    "            <v-layout align-start justify-center>\n",
    "              <v-flex xs4 class=\"elevation-1 pa-3 ma-2\">\n",
    "                <v-list two-line>\n",
    "                  <v-subheader>\n",
    "                    FIRST LIST\n",
    "                  </v-subheader>\n",
    "                  <draggable v-model=\"items\" :group=\"{name:'people'}\" style=\"min-height: 10px\">\n",
    "                    <template v-for=\"item in items\">\n",
    "                    <v-list-item :key=\"item.id\">\n",
    "                    <v-list-item-avatar>\n",
    "                      <img :src=\"item.avatar\">\n",
    "                    </v-list-item-avatar>\n",
    "                    <v-list-item-content>\n",
    "                      <v-list-item-title v-html=\"item.title\"></v-list-item-title>\n",
    "                      <v-list-item-sub-title v-html=\"item.subtitle\"></v-list-item-sub-title>\n",
    "                    </v-list-item-content>\n",
    "                  </v-list-item>\n",
    "                </template>\n",
    "                  </draggable>\n",
    "                </v-list>\n",
    "              </v-flex>\n",
    "              <v-flex xs4 class=\"elevation-1 pa-3 ma-2\">\n",
    "                <v-list two-line>\n",
    "                  <v-subheader>\n",
    "                    SECOND LIST\n",
    "                  </v-subheader>\n",
    "                  <draggable v-model=\"items2\" :group=\"{name:'people'}\" style=\"min-height: 10px\">\n",
    "                    <template v-for=\"item in items2\">\n",
    "                  <v-list-item :key=\"item.id\">\n",
    "                    <v-list-item-avatar>\n",
    "                      <img :src=\"item.avatar\">\n",
    "                    </v-list-item-avatar>\n",
    "                    <v-list-item-content>\n",
    "                      <v-list-item-title v-html=\"item.title\"></v-list-item-title>\n",
    "                      <v-list-item-sub-title v-html=\"item.subtitle\"></v-list-item-sub-title>\n",
    "                    </v-list-item-content>\n",
    "                  </v-list-item>\n",
    "                </template>\n",
    "                  </draggable>\n",
    "                </v-list>\n",
    "              </v-flex>\n",
    "            </v-layout>\n",
    "          </v-container>\n",
    "        </v-content>\n",
    "        ''').tag(sync=True)\n",
    "    \n",
    "    \n",
    "MyDraggable()"
   ]
  },
  {
   "cell_type": "code",
   "execution_count": null,
   "metadata": {},
   "outputs": [],
   "source": []
  }
 ],
 "metadata": {
  "kernelspec": {
   "display_name": "Python 3",
   "language": "python",
   "name": "python3"
  },
  "language_info": {
   "codemirror_mode": {
    "name": "ipython",
    "version": 3
   },
   "file_extension": ".py",
   "mimetype": "text/x-python",
   "name": "python",
   "nbconvert_exporter": "python",
   "pygments_lexer": "ipython3",
   "version": "3.7.6"
  }
 },
 "nbformat": 4,
 "nbformat_minor": 2
}
